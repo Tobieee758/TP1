{
 "cells": [
  {
   "cell_type": "code",
   "execution_count": 70,
   "metadata": {},
   "outputs": [],
   "source": [
    "# Import necessary libaries\n",
    "import pandas as pd"
   ]
  },
  {
   "cell_type": "code",
   "execution_count": 71,
   "metadata": {},
   "outputs": [],
   "source": [
    "# Set up pathways (so you don't have to write them out all the time)\n",
    "wd ='C:/Users/tobis/Desktop/Tobi'\n",
    "testperson2 = wd + '/2/testperson2.csv' #GPS DATA Testperson 2\n",
    "testperson2D = wd + '/2/TP2.csv' #TestPerson 2 Diary"
   ]
  },
  {
   "cell_type": "code",
   "execution_count": 72,
   "metadata": {},
   "outputs": [],
   "source": [
    "# Read your .csv data into a pandas dataframe \n",
    "data_2 = pd.read_csv(testperson2, sep=\",\")\n",
    "\n",
    "# Show the pandas and make sure it looks OK, otherwise you might need to change the \"sep\", which is what seperates the columns from eachother.\n",
    "#########print(data_2)\n",
    "\n",
    "# Load your filter, i.e. the information on start and end time from their diaries\n",
    "# Instead of creating a pandas from start as i will do below (just an example), try to load your excel file (if you created one)\n",
    "data_2D = pd.read_csv(testperson2D, sep=\",\")\n",
    "\n",
    "#########print(data_2D)\n",
    "\n",
    "# Make sure your date columns are formated as datetime in pandas\n",
    "# First, you need to combine the date and time column to a new datetime column from your original data\n",
    "data_2['TIMESTAMP'] = pd.to_datetime(data_2['LOCAL DATE'] + ' ' + data_2['LOCAL TIME'], format='%d/%m/%Y %H:%M:%S')\n",
    "\n",
    "# Then make sure that the filter (start and stop time) is formated as datetime as well\n",
    "data_2D['Start'] = pd.to_datetime(data_2D['Date'] + ' ' + data_2D['Start'], format='%d/%m/%Y %H:%M:%S')\n",
    "data_2D['End'] = pd.to_datetime(data_2D['Date'] + ' ' + data_2D['End'], format='%d/%m/%Y %H:%M:%S')"
   ]
  },
  {
   "cell_type": "code",
   "execution_count": 73,
   "metadata": {},
   "outputs": [],
   "source": [
    "#All Start and Stop Times\n",
    "# Create an empty DataFrame to store the filtered data\n",
    "filtered_data = pd.DataFrame()\n",
    "\n",
    "# Loop through each row in the movement log (data_2D)\n",
    "for idx, row in data_2D.iterrows():\n",
    "    start_time = row['Start']\n",
    "    end_time = row['End']\n",
    "    \n",
    "    # Filter GPS data for the current start and end time\n",
    "    mask = (data_2['TIMESTAMP'] >= start_time) & (data_2['TIMESTAMP'] <= end_time)\n",
    "    \n",
    "    # Append the filtered data for this time range to the filtered_data DataFrame\n",
    "    filtered_data = pd.concat([filtered_data, data_2[mask]])\n",
    "\n",
    "# Reset index to avoid any issues with indexing after concatenation\n",
    "filtered_data = filtered_data.reset_index(drop=True)\n",
    "\n",
    "#Save the filtered data to a CSV file\n",
    "filtered_data.to_csv('C:/Users/tobis/Desktop/Tobi/2/filtered_TestPerson2.csv', index=False)"
   ]
  },
  {
   "cell_type": "code",
   "execution_count": 74,
   "metadata": {},
   "outputs": [],
   "source": [
    "#Append?\n",
    "# 🆕 Step 1: Create a new, empty DataFrame (aka \"new pandas\")\n",
    "new_df = pd.DataFrame()\n",
    "\n",
    "# 🔁 Step 2: Loop over your filters (like time windows), then append to it\n",
    "for i in range(len(data_2D)):\n",
    "    start_time = data_2D.loc[i, 'Start']\n",
    "    end_time = data_2D.loc[i, 'End']\n",
    "    \n",
    "    mask = (data_2['TIMESTAMP'] >= start_time) & (data_2['TIMESTAMP'] <= end_time)\n",
    "    filtered = data_2[mask]\n",
    "    \n",
    "    # Append this to \"new_df\"\n",
    "    new_df = pd.concat([new_df, filtered], ignore_index=True)"
   ]
  },
  {
   "cell_type": "code",
   "execution_count": null,
   "metadata": {},
   "outputs": [],
   "source": []
  }
 ],
 "metadata": {
  "kernelspec": {
   "display_name": "Python 3 (ipykernel)",
   "language": "python",
   "name": "python3"
  },
  "language_info": {
   "codemirror_mode": {
    "name": "ipython",
    "version": 3
   },
   "file_extension": ".py",
   "mimetype": "text/x-python",
   "name": "python",
   "nbconvert_exporter": "python",
   "pygments_lexer": "ipython3",
   "version": "3.13.3"
  }
 },
 "nbformat": 4,
 "nbformat_minor": 4
}
