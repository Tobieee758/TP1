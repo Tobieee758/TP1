{
 "cells": [
  {
   "cell_type": "code",
   "execution_count": 11,
   "id": "e82a9f04-039b-4164-930f-aad272a63c69",
   "metadata": {},
   "outputs": [],
   "source": [
    "import pandas as pd"
   ]
  },
  {
   "cell_type": "code",
   "execution_count": 12,
   "id": "3b736bcc-e20a-4896-9889-bb2df8e77343",
   "metadata": {},
   "outputs": [],
   "source": [
    "# Step 1: Load the CSV file into a DataFrame\n",
    "speed_df = pd.read_csv('C:/Users/tobis/Desktop/Tobi/1/filtered_TestPerson1.csv')"
   ]
  },
  {
   "cell_type": "code",
   "execution_count": 13,
   "id": "d6117fd1-ab71-45f9-858c-b1651b7d4fca",
   "metadata": {},
   "outputs": [],
   "source": [
    "# Step 2: Filter rows where speed is <= 20 km/h\n",
    "filtered_df = speed_df[speed_df['SPEED'] <= 20]"
   ]
  },
  {
   "cell_type": "code",
   "execution_count": 14,
   "id": "25d968e6-926c-41b3-92be-a805e307399f",
   "metadata": {},
   "outputs": [],
   "source": [
    "# Step 3: (Optional) Save the filtered data to a new CSV file\n",
    "filtered_df.to_csv('C:/Users/tobis/Desktop/Tobi/1/speed1.csv', index=False)"
   ]
  }
 ],
 "metadata": {
  "kernelspec": {
   "display_name": "Python 3 (ipykernel)",
   "language": "python",
   "name": "python3"
  },
  "language_info": {
   "codemirror_mode": {
    "name": "ipython",
    "version": 3
   },
   "file_extension": ".py",
   "mimetype": "text/x-python",
   "name": "python",
   "nbconvert_exporter": "python",
   "pygments_lexer": "ipython3",
   "version": "3.13.3"
  }
 },
 "nbformat": 4,
 "nbformat_minor": 5
}
