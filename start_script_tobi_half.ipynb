{
 "cells": [
  {
   "cell_type": "code",
   "execution_count": 7,
   "metadata": {},
   "outputs": [],
   "source": [
    "# Import necessary libaries\n",
    "import pandas as pd"
   ]
  },
  {
   "cell_type": "code",
   "execution_count": 8,
   "metadata": {},
   "outputs": [],
   "source": [
    "# Set up pathways (so you don't have to write them out all the time)\n",
    "wd ='C:/Users/tobis/Desktop/Tobi'\n",
    "testperson1 = wd + '/1/testperson1_new.csv'\n",
    "testperson1D = wd + '/1/TP1.csv' #TestPerson 1 Diary"
   ]
  },
  {
   "cell_type": "code",
   "execution_count": 9,
   "metadata": {},
   "outputs": [],
   "source": [
    "# Read your .csv data into a pandas dataframe \n",
    "data_1 = pd.read_csv(testperson1, sep=\",\")\n",
    "\n",
    "# Show the pandas and make sure it looks OK, otherwise you might need to change the \"sep\", which is what seperates the columns from eachother.\n",
    "#print(data_1)\n",
    "\n",
    "# Load your filter, i.e. the information on start and end time from their diaries\n",
    "# Instead of creating a pandas from start as i will do below (just an example), try to load your excel file (if you created one)\n",
    "data_1D = pd.read_csv(testperson1D, sep=\",\")\n",
    "#print(data_1D)\n",
    "\n",
    "# Make sure your date columns are formated as datetime in pandas\n",
    "# First, you need to combine the date and time column to a new datetime column from your original data\n",
    "data_1['TIMESTAMP'] = pd.to_datetime(data_1['LOCAL DATE'] + ' ' + data_1['LOCAL TIME'], format='%d/%m/%Y %H:%M:%S')\n",
    "\n",
    "# Then make sure that the filter (start and stop time) is formated as datetime as well\n",
    "data_1D['Start'] = pd.to_datetime(data_1D['Date'] + ' ' + data_1D['Start'], format='%d/%m/%Y %H:%M:%S')\n",
    "data_1D['End'] = pd.to_datetime(data_1D['Date'] + ' ' + data_1D['End'], format='%d/%m/%Y %H:%M:%S')\n",
    "\n",
    "# Now you can filtrate \"data_1\" to only include all rows where 'TIMESTAMP' is between 'Start' and 'End'\n",
    "filtered_data = data_1[(data_1['TIMESTAMP'] >= data_1D['Start'].iloc[0]) & (data_1['TIMESTAMP'] <= data_1D['End'].iloc[0])]\n"
   ]
  },
  {
   "cell_type": "code",
   "execution_count": 11,
   "metadata": {},
   "outputs": [],
   "source": [
    "#All Start and Stop Times\n",
    "# Create an empty DataFrame to store the filtered data\n",
    "filtered_data = pd.DataFrame()\n",
    "\n",
    "# Loop through each row in the movement log (data_1D)\n",
    "for idx, row in data_1D.iterrows():\n",
    "    start_time = row['Start']\n",
    "    end_time = row['End']\n",
    "    \n",
    "    # Filter GPS data for the current start and end time\n",
    "    mask = (data_1['TIMESTAMP'] >= start_time) & (data_1['TIMESTAMP'] <= end_time)\n",
    "    \n",
    "    # Append the filtered data for this time range to the filtered_data DataFrame\n",
    "    filtered_data = pd.concat([filtered_data, data_1[mask]])\n",
    "\n",
    "# Reset index to avoid any issues with indexing after concatenation\n",
    "filtered_data = filtered_data.reset_index(drop=True)\n",
    "\n",
    "#Save the filtered data to a CSV file\n",
    "filtered_data.to_csv('C:/Users/tobis/Desktop/Tobi/1/filtered_TestPerson1.csv', index=False)"
   ]
  },
  {
   "cell_type": "code",
   "execution_count": 12,
   "metadata": {},
   "outputs": [],
   "source": [
    "#Append?\n",
    "# 🆕 Step 1: Create a new, empty DataFrame (aka \"new pandas\")\n",
    "new_df = pd.DataFrame()\n",
    "\n",
    "# 🔁 Step 2: Loop over your filters (like time windows), then append to it\n",
    "for i in range(len(data_1D)):\n",
    "    start_time = data_1D.loc[i, 'Start']\n",
    "    end_time = data_1D.loc[i, 'End']\n",
    "    \n",
    "    mask = (data_1['TIMESTAMP'] >= start_time) & (data_1['TIMESTAMP'] <= end_time)\n",
    "    filtered = data_1[mask]\n",
    "    \n",
    "    # Append this to \"new_df\"\n",
    "    new_df = pd.concat([new_df, filtered], ignore_index=True)\n"
   ]
  }
 ],
 "metadata": {
  "kernelspec": {
   "display_name": "Python 3 (ipykernel)",
   "language": "python",
   "name": "python3"
  },
  "language_info": {
   "codemirror_mode": {
    "name": "ipython",
    "version": 3
   },
   "file_extension": ".py",
   "mimetype": "text/x-python",
   "name": "python",
   "nbconvert_exporter": "python",
   "pygments_lexer": "ipython3",
   "version": "3.13.3"
  }
 },
 "nbformat": 4,
 "nbformat_minor": 4
}
